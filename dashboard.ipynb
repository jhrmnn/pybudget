{
 "cells": [
  {
   "cell_type": "code",
   "execution_count": null,
   "metadata": {},
   "outputs": [],
   "source": [
    "%load_ext autoreload\n",
    "%autoreload 2"
   ]
  },
  {
   "cell_type": "code",
   "execution_count": null,
   "metadata": {},
   "outputs": [],
   "source": [
    "import datetime\n",
    "import os\n",
    "\n",
    "import matplotlib as mpl\n",
    "import matplotlib.pyplot as plt\n",
    "import numpy as np\n",
    "import pandas as pd\n",
    "\n",
    "from budget.plot import plot_summary\n",
    "from budget.summary import all_records, subs_future, summary\n",
    "from budget.watcher import FileWatcher\n",
    "\n",
    "pd.set_option('display.max_rows', 1000)"
   ]
  },
  {
   "cell_type": "code",
   "execution_count": null,
   "metadata": {},
   "outputs": [],
   "source": [
    "# needs to be in a separate cell, see https://github.com/ipython/ipython/issues/11098\n",
    "mpl.rcParams['figure.dpi'] = 100"
   ]
  },
  {
   "cell_type": "code",
   "execution_count": null,
   "metadata": {},
   "outputs": [],
   "source": [
    "sheets = {}\n",
    "fw = FileWatcher(os.environ['PYBUDGET_LEDGER'], sheets)\n",
    "fw.run()"
   ]
  },
  {
   "cell_type": "code",
   "execution_count": null,
   "metadata": {},
   "outputs": [],
   "source": [
    "fw.stop()"
   ]
  },
  {
   "cell_type": "code",
   "execution_count": null,
   "metadata": {},
   "outputs": [],
   "source": [
    "TOTAL_START = sheets['balance'].iloc[8, 3]\n",
    "records = all_records(sheets)"
   ]
  },
  {
   "cell_type": "markdown",
   "metadata": {},
   "source": [
    "## Summary"
   ]
  },
  {
   "cell_type": "code",
   "execution_count": null,
   "metadata": {},
   "outputs": [],
   "source": [
    "summ = summary(records, end=datetime.date(2020, 12, 31))\n",
    "summ.round().astype(int)"
   ]
  },
  {
   "cell_type": "code",
   "execution_count": null,
   "metadata": {},
   "outputs": [],
   "source": [
    "fig, ax = plt.subplots(figsize=(9, 6))\n",
    "plot_summary(summ, ax)"
   ]
  },
  {
   "cell_type": "code",
   "execution_count": null,
   "metadata": {},
   "outputs": [],
   "source": [
    "fig, axes = plt.subplots(1, 2, figsize=(9, 3))\n",
    "(summ.sum(axis=1).loc[lambda x: x > 0].cumsum() + TOTAL_START).plot(ax=axes[0])\n",
    "axes[0].grid(axis='y', which='major', ls='dotted')\n",
    "axes[0].set_ylim(0, None)\n",
    "summ.sum(axis=1).loc[lambda x: x > 0].plot(ax=axes[1])\n",
    "summ.sum(axis=1).loc[lambda x: x > 0].rolling(6).mean().plot(\n",
    "    ax=axes[1], c='C0', ls='dotted'\n",
    ")\n",
    "axes[1].grid(axis='y', which='major', ls='dotted')"
   ]
  },
  {
   "cell_type": "markdown",
   "metadata": {},
   "source": [
    "## Postponed payments"
   ]
  },
  {
   "cell_type": "code",
   "execution_count": null,
   "metadata": {},
   "outputs": [],
   "source": [
    "records.loc[\n",
    "    lambda x: (x['charge_len'].fillna(0) > 1)\n",
    "    & (x['charge_end'] > np.datetime64('2020-08-13'))\n",
    "    & (x['per_month'] < -10)\n",
    "].sort_values('per_month')"
   ]
  },
  {
   "cell_type": "code",
   "execution_count": null,
   "metadata": {},
   "outputs": [],
   "source": [
    "summary(records.loc[lambda x: x['charge_len'].fillna(0) > 1]).round()"
   ]
  },
  {
   "cell_type": "code",
   "execution_count": null,
   "metadata": {},
   "outputs": [],
   "source": [
    "fig, axes = plt.subplots(2, 1)\n",
    "subs_future(records, end=datetime.date(2024, 1, 1)).plot(ax=axes[0])\n",
    "subs_future(records, end=datetime.date(2024, 1, 1)).cumsum().plot(ax=axes[1])\n",
    "final = subs_future(records, end=records['charge_end'].dropna().max()).sum()\n",
    "axes[1].axhline(final, c='black', ls='dashed')\n",
    "for ax in axes:\n",
    "    ax.set_xticks(list(range(0, 6 * 12, 12)))\n",
    "    ax.set_xticklabels(list(range(2019, 2025)))\n",
    "    ax.grid(axis='x', which='major', ls='dotted')\n",
    "    ax.grid(axis='y', which='major', ls='dotted')\n",
    "    ax.set_ylim(0, None)"
   ]
  }
 ],
 "metadata": {
  "kernelspec": {
   "language": "python"
  },
  "language_info": {
   "codemirror_mode": {
    "name": "ipython",
    "version": 3
   },
   "file_extension": ".py",
   "mimetype": "text/x-python",
   "name": "python",
   "nbconvert_exporter": "python",
   "pygments_lexer": "ipython3"
  }
 },
 "nbformat": 4,
 "nbformat_minor": 2
}
